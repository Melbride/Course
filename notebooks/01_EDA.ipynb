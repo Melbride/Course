{
 "cells": [
  {
   "cell_type": "markdown",
   "id": "9313aae6-bd7f-47a3-b696-9fd151f61fc9",
   "metadata": {},
   "source": [
    "# Course Recommender: Exploratory Data Analysis"
   ]
  },
  {
   "cell_type": "markdown",
   "id": "06d41145-cf4a-404f-be8b-edf1dbaacbe5",
   "metadata": {},
   "source": [
    "## 1. Load Datasets and First Exposure"
   ]
  },
  {
   "cell_type": "code",
   "execution_count": 2,
   "id": "4b1ed66d-bd98-4fcd-862e-0ab495e1c28b",
   "metadata": {},
   "outputs": [],
   "source": [
    "import pandas as pd\n",
    "import numpy as np\n",
    "import matplotlib.pyplot as plt\n",
    "import seaborn as sns\n",
    "from wordcloud import WordCloud, STOPWORDS, ImageColorGenerator"
   ]
  },
  {
   "cell_type": "code",
   "execution_count": 4,
   "id": "36056d4b-2467-4239-a943-7ad491ee7795",
   "metadata": {},
   "outputs": [],
   "source": [
    "course_df = pd.read_csv('../data/course_genre.csv')\n",
    "ratings_df = pd.read_csv('../data/ratings.csv')"
   ]
  },
  {
   "cell_type": "code",
   "execution_count": 6,
   "id": "e3b08178-152c-4b30-9459-6c42065a5c30",
   "metadata": {},
   "outputs": [
    {
     "data": {
      "text/html": [
       "<div>\n",
       "<style scoped>\n",
       "    .dataframe tbody tr th:only-of-type {\n",
       "        vertical-align: middle;\n",
       "    }\n",
       "\n",
       "    .dataframe tbody tr th {\n",
       "        vertical-align: top;\n",
       "    }\n",
       "\n",
       "    .dataframe thead th {\n",
       "        text-align: right;\n",
       "    }\n",
       "</style>\n",
       "<table border=\"1\" class=\"dataframe\">\n",
       "  <thead>\n",
       "    <tr style=\"text-align: right;\">\n",
       "      <th></th>\n",
       "      <th>COURSE_ID</th>\n",
       "      <th>TITLE</th>\n",
       "      <th>Database</th>\n",
       "      <th>Python</th>\n",
       "      <th>CloudComputing</th>\n",
       "      <th>DataAnalysis</th>\n",
       "      <th>Containers</th>\n",
       "      <th>MachineLearning</th>\n",
       "      <th>ComputerVision</th>\n",
       "      <th>DataScience</th>\n",
       "      <th>BigData</th>\n",
       "      <th>Chatbot</th>\n",
       "      <th>R</th>\n",
       "      <th>BackendDev</th>\n",
       "      <th>FrontendDev</th>\n",
       "      <th>Blockchain</th>\n",
       "    </tr>\n",
       "  </thead>\n",
       "  <tbody>\n",
       "    <tr>\n",
       "      <th>0</th>\n",
       "      <td>ML0201EN</td>\n",
       "      <td>robots are coming  build iot apps with watson ...</td>\n",
       "      <td>0</td>\n",
       "      <td>0</td>\n",
       "      <td>0</td>\n",
       "      <td>0</td>\n",
       "      <td>0</td>\n",
       "      <td>0</td>\n",
       "      <td>0</td>\n",
       "      <td>0</td>\n",
       "      <td>0</td>\n",
       "      <td>0</td>\n",
       "      <td>0</td>\n",
       "      <td>1</td>\n",
       "      <td>1</td>\n",
       "      <td>0</td>\n",
       "    </tr>\n",
       "    <tr>\n",
       "      <th>1</th>\n",
       "      <td>ML0122EN</td>\n",
       "      <td>accelerating deep learning with gpu</td>\n",
       "      <td>0</td>\n",
       "      <td>1</td>\n",
       "      <td>0</td>\n",
       "      <td>0</td>\n",
       "      <td>0</td>\n",
       "      <td>1</td>\n",
       "      <td>0</td>\n",
       "      <td>1</td>\n",
       "      <td>0</td>\n",
       "      <td>0</td>\n",
       "      <td>0</td>\n",
       "      <td>0</td>\n",
       "      <td>0</td>\n",
       "      <td>0</td>\n",
       "    </tr>\n",
       "    <tr>\n",
       "      <th>2</th>\n",
       "      <td>GPXX0ZG0EN</td>\n",
       "      <td>consuming restful services using the reactive ...</td>\n",
       "      <td>0</td>\n",
       "      <td>0</td>\n",
       "      <td>0</td>\n",
       "      <td>0</td>\n",
       "      <td>0</td>\n",
       "      <td>0</td>\n",
       "      <td>0</td>\n",
       "      <td>0</td>\n",
       "      <td>0</td>\n",
       "      <td>0</td>\n",
       "      <td>0</td>\n",
       "      <td>1</td>\n",
       "      <td>1</td>\n",
       "      <td>0</td>\n",
       "    </tr>\n",
       "    <tr>\n",
       "      <th>3</th>\n",
       "      <td>RP0105EN</td>\n",
       "      <td>analyzing big data in r using apache spark</td>\n",
       "      <td>1</td>\n",
       "      <td>0</td>\n",
       "      <td>0</td>\n",
       "      <td>1</td>\n",
       "      <td>0</td>\n",
       "      <td>0</td>\n",
       "      <td>0</td>\n",
       "      <td>0</td>\n",
       "      <td>1</td>\n",
       "      <td>0</td>\n",
       "      <td>1</td>\n",
       "      <td>0</td>\n",
       "      <td>0</td>\n",
       "      <td>0</td>\n",
       "    </tr>\n",
       "    <tr>\n",
       "      <th>4</th>\n",
       "      <td>GPXX0Z2PEN</td>\n",
       "      <td>containerizing  packaging  and running a sprin...</td>\n",
       "      <td>0</td>\n",
       "      <td>0</td>\n",
       "      <td>0</td>\n",
       "      <td>0</td>\n",
       "      <td>1</td>\n",
       "      <td>0</td>\n",
       "      <td>0</td>\n",
       "      <td>0</td>\n",
       "      <td>0</td>\n",
       "      <td>0</td>\n",
       "      <td>0</td>\n",
       "      <td>1</td>\n",
       "      <td>0</td>\n",
       "      <td>0</td>\n",
       "    </tr>\n",
       "  </tbody>\n",
       "</table>\n",
       "</div>"
      ],
      "text/plain": [
       "    COURSE_ID                                              TITLE  Database  \\\n",
       "0    ML0201EN  robots are coming  build iot apps with watson ...         0   \n",
       "1    ML0122EN                accelerating deep learning with gpu         0   \n",
       "2  GPXX0ZG0EN  consuming restful services using the reactive ...         0   \n",
       "3    RP0105EN         analyzing big data in r using apache spark         1   \n",
       "4  GPXX0Z2PEN  containerizing  packaging  and running a sprin...         0   \n",
       "\n",
       "   Python  CloudComputing  DataAnalysis  Containers  MachineLearning  \\\n",
       "0       0               0             0           0                0   \n",
       "1       1               0             0           0                1   \n",
       "2       0               0             0           0                0   \n",
       "3       0               0             1           0                0   \n",
       "4       0               0             0           1                0   \n",
       "\n",
       "   ComputerVision  DataScience  BigData  Chatbot  R  BackendDev  FrontendDev  \\\n",
       "0               0            0        0        0  0           1            1   \n",
       "1               0            1        0        0  0           0            0   \n",
       "2               0            0        0        0  0           1            1   \n",
       "3               0            0        1        0  1           0            0   \n",
       "4               0            0        0        0  0           1            0   \n",
       "\n",
       "   Blockchain  \n",
       "0           0  \n",
       "1           0  \n",
       "2           0  \n",
       "3           0  \n",
       "4           0  "
      ]
     },
     "execution_count": 6,
     "metadata": {},
     "output_type": "execute_result"
    }
   ],
   "source": [
    "course_df.head()"
   ]
  },
  {
   "cell_type": "code",
   "execution_count": 7,
   "id": "a3f5ed0a-c429-433d-883c-a10575d7230f",
   "metadata": {},
   "outputs": [
    {
     "data": {
      "text/html": [
       "<div>\n",
       "<style scoped>\n",
       "    .dataframe tbody tr th:only-of-type {\n",
       "        vertical-align: middle;\n",
       "    }\n",
       "\n",
       "    .dataframe tbody tr th {\n",
       "        vertical-align: top;\n",
       "    }\n",
       "\n",
       "    .dataframe thead th {\n",
       "        text-align: right;\n",
       "    }\n",
       "</style>\n",
       "<table border=\"1\" class=\"dataframe\">\n",
       "  <thead>\n",
       "    <tr style=\"text-align: right;\">\n",
       "      <th></th>\n",
       "      <th>user</th>\n",
       "      <th>item</th>\n",
       "      <th>rating</th>\n",
       "    </tr>\n",
       "  </thead>\n",
       "  <tbody>\n",
       "    <tr>\n",
       "      <th>0</th>\n",
       "      <td>1889878</td>\n",
       "      <td>CC0101EN</td>\n",
       "      <td>3.0</td>\n",
       "    </tr>\n",
       "    <tr>\n",
       "      <th>1</th>\n",
       "      <td>1342067</td>\n",
       "      <td>CL0101EN</td>\n",
       "      <td>3.0</td>\n",
       "    </tr>\n",
       "    <tr>\n",
       "      <th>2</th>\n",
       "      <td>1990814</td>\n",
       "      <td>ML0120ENv3</td>\n",
       "      <td>3.0</td>\n",
       "    </tr>\n",
       "    <tr>\n",
       "      <th>3</th>\n",
       "      <td>380098</td>\n",
       "      <td>BD0211EN</td>\n",
       "      <td>3.0</td>\n",
       "    </tr>\n",
       "    <tr>\n",
       "      <th>4</th>\n",
       "      <td>779563</td>\n",
       "      <td>DS0101EN</td>\n",
       "      <td>3.0</td>\n",
       "    </tr>\n",
       "  </tbody>\n",
       "</table>\n",
       "</div>"
      ],
      "text/plain": [
       "      user        item  rating\n",
       "0  1889878    CC0101EN     3.0\n",
       "1  1342067    CL0101EN     3.0\n",
       "2  1990814  ML0120ENv3     3.0\n",
       "3   380098    BD0211EN     3.0\n",
       "4   779563    DS0101EN     3.0"
      ]
     },
     "execution_count": 7,
     "metadata": {},
     "output_type": "execute_result"
    }
   ],
   "source": [
    "ratings_df.head()"
   ]
  },
  {
   "cell_type": "code",
   "execution_count": 11,
   "id": "99a7621b-1750-404b-a3c0-1141beb8a2cb",
   "metadata": {},
   "outputs": [
    {
     "data": {
      "text/plain": [
       "(307, 16)"
      ]
     },
     "execution_count": 11,
     "metadata": {},
     "output_type": "execute_result"
    }
   ],
   "source": [
    "# 307 courses, each with 16 features: 2 (id, title) + 14 (topic binary variables)\n",
    "course_df.shape"
   ]
  },
  {
   "cell_type": "code",
   "execution_count": 17,
   "id": "fb85e874-5fc0-4dc0-8095-f750430b168a",
   "metadata": {},
   "outputs": [
    {
     "data": {
      "text/plain": [
       "(233306, 3)"
      ]
     },
     "execution_count": 17,
     "metadata": {},
     "output_type": "execute_result"
    }
   ],
   "source": [
    "# 233306 ratings each with 3 features: user id, course id, rating\n",
    "ratings_df.shape"
   ]
  },
  {
   "cell_type": "code",
   "execution_count": 19,
   "id": "ce7bb314-07c1-403d-a082-9f8d146839ca",
   "metadata": {},
   "outputs": [
    {
     "data": {
      "text/plain": [
       "COURSE_ID                                     ML0122EN\n",
       "TITLE              accelerating deep learning with gpu\n",
       "Database                                             0\n",
       "Python                                               1\n",
       "CloudComputing                                       0\n",
       "DataAnalysis                                         0\n",
       "Containers                                           0\n",
       "MachineLearning                                      1\n",
       "ComputerVision                                       0\n",
       "DataScience                                          1\n",
       "BigData                                              0\n",
       "Chatbot                                              0\n",
       "R                                                    0\n",
       "BackendDev                                           0\n",
       "FrontendDev                                          0\n",
       "Blockchain                                           0\n",
       "Name: 1, dtype: object"
      ]
     },
     "execution_count": 19,
     "metadata": {},
     "output_type": "execute_result"
    }
   ],
   "source": [
    "# One course might have several topics\n",
    "course_df.iloc[1, ]"
   ]
  },
  {
   "cell_type": "code",
   "execution_count": 22,
   "id": "1de897b1-228e-4319-b873-9b0babfbadd4",
   "metadata": {},
   "outputs": [
    {
     "data": {
      "text/plain": [
       "user\n",
       "2          61\n",
       "4          44\n",
       "5          59\n",
       "7           1\n",
       "8           3\n",
       "           ..\n",
       "2102054     8\n",
       "2102356     1\n",
       "2102680    11\n",
       "2102983     1\n",
       "2103039     1\n",
       "Name: item, Length: 33901, dtype: int64"
      ]
     },
     "execution_count": 22,
     "metadata": {},
     "output_type": "execute_result"
    }
   ],
   "source": [
    "# Each user might have several ratings\n",
    "ratings_df.groupby('user').count()['item']"
   ]
  },
  {
   "cell_type": "code",
   "execution_count": 14,
   "id": "b5130c4f-b4b8-46f6-8699-af64eb5f0044",
   "metadata": {},
   "outputs": [
    {
     "name": "stdout",
     "output_type": "stream",
     "text": [
      "<class 'pandas.core.frame.DataFrame'>\n",
      "RangeIndex: 307 entries, 0 to 306\n",
      "Data columns (total 16 columns):\n",
      " #   Column           Non-Null Count  Dtype \n",
      "---  ------           --------------  ----- \n",
      " 0   COURSE_ID        307 non-null    object\n",
      " 1   TITLE            307 non-null    object\n",
      " 2   Database         307 non-null    int64 \n",
      " 3   Python           307 non-null    int64 \n",
      " 4   CloudComputing   307 non-null    int64 \n",
      " 5   DataAnalysis     307 non-null    int64 \n",
      " 6   Containers       307 non-null    int64 \n",
      " 7   MachineLearning  307 non-null    int64 \n",
      " 8   ComputerVision   307 non-null    int64 \n",
      " 9   DataScience      307 non-null    int64 \n",
      " 10  BigData          307 non-null    int64 \n",
      " 11  Chatbot          307 non-null    int64 \n",
      " 12  R                307 non-null    int64 \n",
      " 13  BackendDev       307 non-null    int64 \n",
      " 14  FrontendDev      307 non-null    int64 \n",
      " 15  Blockchain       307 non-null    int64 \n",
      "dtypes: int64(14), object(2)\n",
      "memory usage: 38.5+ KB\n"
     ]
    }
   ],
   "source": [
    "# Courses: No nulls, clean data\n",
    "course_df.info()"
   ]
  },
  {
   "cell_type": "code",
   "execution_count": 16,
   "id": "91dbe9a7-bfe0-401b-bf0e-8414b11c3ded",
   "metadata": {},
   "outputs": [
    {
     "name": "stdout",
     "output_type": "stream",
     "text": [
      "<class 'pandas.core.frame.DataFrame'>\n",
      "RangeIndex: 233306 entries, 0 to 233305\n",
      "Data columns (total 3 columns):\n",
      " #   Column  Non-Null Count   Dtype  \n",
      "---  ------  --------------   -----  \n",
      " 0   user    233306 non-null  int64  \n",
      " 1   item    233306 non-null  object \n",
      " 2   rating  233306 non-null  float64\n",
      "dtypes: float64(1), int64(1), object(1)\n",
      "memory usage: 5.3+ MB\n"
     ]
    }
   ],
   "source": [
    "# Ratings: No nulls, clean data\n",
    "ratings_df.info()"
   ]
  },
  {
   "cell_type": "markdown",
   "id": "5cc20f2a-aa4b-4d31-8f1a-99fa9873450d",
   "metadata": {},
   "source": [
    "### 1.1 Word Cloud"
   ]
  },
  {
   "cell_type": "code",
   "execution_count": 23,
   "id": "8c77a711-0319-4f95-9f63-1ebd1bfb68d3",
   "metadata": {},
   "outputs": [],
   "source": [
    "# Join all titles into a single string\n",
    "# Then, create a word cloud\n",
    "titles = \" \".join(title for title in course_df['TITLE'].astype(str))"
   ]
  },
  {
   "cell_type": "code",
   "execution_count": 25,
   "id": "98fdb867-ab7f-4b87-b2cf-63adfdd9b385",
   "metadata": {},
   "outputs": [],
   "source": [
    "# English Stopwords: Defined in wordlcloud\n",
    "stopwords = set(STOPWORDS)\n",
    "# Custom stop words: common but uninteresting words from titles\n",
    "stopwords.update([\"getting started\", \"using\", \"enabling\", \"template\", \"university\", \"end\", \"introduction\", \"basic\"])"
   ]
  },
  {
   "cell_type": "code",
   "execution_count": 26,
   "id": "f762c883-9e77-43a2-8688-664bee9bf2c3",
   "metadata": {},
   "outputs": [],
   "source": [
    "wordcloud = WordCloud(stopwords=stopwords, background_color=\"white\", width=800, height=400)"
   ]
  },
  {
   "cell_type": "code",
   "execution_count": 27,
   "id": "ee8fff17-eded-4445-955f-8da869565620",
   "metadata": {},
   "outputs": [
    {
     "data": {
      "text/plain": [
       "<wordcloud.wordcloud.WordCloud at 0x7fb9e01e1690>"
      ]
     },
     "execution_count": 27,
     "metadata": {},
     "output_type": "execute_result"
    }
   ],
   "source": [
    "wordcloud.generate(titles)"
   ]
  },
  {
   "cell_type": "code",
   "execution_count": null,
   "id": "ad423b8a",
   "metadata": {},
   "outputs": [],
   "source": [
    "plt.axis(\"off\")\n",
    "plt.figure(figsize=(20,10))\n",
    "plt.tight_layout(pad=0)\n",
    "plt.imshow(wordcloud, interpolation='bilinear')\n",
    "fig = plt.gca()\n",
    "fig.get_xaxis().set_visible(False)\n",
    "fig.get_yaxis().set_visible(False)\n",
    "plt.savefig(\"../assets/word_cloud.png\", bbox_inches='tight')\n",
    "plt.show()"
   ]
  },
  {
   "cell_type": "markdown",
   "id": "f10ddd1a-6ed9-415f-8608-a32d3ed59857",
   "metadata": {},
   "source": [
    "## 2. Exploratory Data Analysis"
   ]
  },
  {
   "cell_type": "markdown",
   "id": "e279c513-8d3a-40b6-b67f-513254602ad8",
   "metadata": {},
   "source": [
    "### Course Topics"
   ]
  },
  {
   "cell_type": "code",
   "execution_count": 47,
   "id": "a4cf0e38-5039-4cc8-8648-9a8bbf9ee84d",
   "metadata": {},
   "outputs": [
    {
     "name": "stdout",
     "output_type": "stream",
     "text": [
      "['Database', 'Python', 'CloudComputing', 'DataAnalysis', 'Containers', 'MachineLearning', 'ComputerVision', 'DataScience', 'BigData', 'Chatbot', 'R', 'BackendDev', 'FrontendDev', 'Blockchain']\n"
     ]
    }
   ],
   "source": [
    "# Topics\n",
    "topics = list(course_df.columns[2:])\n",
    "print(topics)"
   ]
  },
  {
   "cell_type": "code",
   "execution_count": 43,
   "id": "e12d5fc0-5dd3-4767-9584-30b68e1fbc53",
   "metadata": {},
   "outputs": [
    {
     "data": {
      "text/plain": [
       "69"
      ]
     },
     "execution_count": 43,
     "metadata": {},
     "output_type": "execute_result"
    }
   ],
   "source": [
    "# Courses with topic MachineLearning\n",
    "course_df.loc[course_df.MachineLearning==1].shape[0]"
   ]
  },
  {
   "cell_type": "code",
   "execution_count": 45,
   "id": "30a2dfdc-278b-4437-a557-2b20d9db3e1c",
   "metadata": {},
   "outputs": [
    {
     "data": {
      "text/plain": [
       "4"
      ]
     },
     "execution_count": 45,
     "metadata": {},
     "output_type": "execute_result"
    }
   ],
   "source": [
    "# Courses with topic MachineLearning + BigData\n",
    "course_df.loc[(course_df.MachineLearning==1) & (course_df.BigData==1)].shape[0]"
   ]
  },
  {
   "cell_type": "code",
   "execution_count": 50,
   "id": "a4b75d65-64f3-4f86-8b2a-05fdb6e394e1",
   "metadata": {},
   "outputs": [
    {
     "data": {
      "text/plain": [
       "BackendDev         78\n",
       "MachineLearning    69\n",
       "Database           60\n",
       "DataAnalysis       56\n",
       "DataScience        38\n",
       "CloudComputing     37\n",
       "BigData            36\n",
       "Python             28\n",
       "FrontendDev        19\n",
       "Containers         17\n",
       "R                  17\n",
       "ComputerVision     10\n",
       "Chatbot             4\n",
       "Blockchain          4\n",
       "dtype: int64"
      ]
     },
     "execution_count": 50,
     "metadata": {},
     "output_type": "execute_result"
    }
   ],
   "source": [
    "# Top topics\n",
    "top_topics = course_df[topics].sum().sort_values(ascending=False)\n",
    "top_topics"
   ]
  },
  {
   "cell_type": "code",
   "execution_count": 51,
   "id": "cbb8828d-b6aa-48b3-8ad6-56bbe79669a4",
   "metadata": {},
   "outputs": [
    {
     "data": {
      "text/plain": [
       "<AxesSubplot:>"
      ]
     },
     "execution_count": 51,
     "metadata": {},
     "output_type": "execute_result"
    },
    {
     "data": {
      "image/png": "[encoded data removed]",
      "text/plain": [
       "<Figure size 432x288 with 1 Axes>"
      ]
     },
     "metadata": {
      "needs_background": "light"
     },
     "output_type": "display_data"
    }
   ],
   "source": [
    "top_topics.plot(kind='bar')"
   ]
  },
  {
   "cell_type": "markdown",
   "id": "798369a0-42e9-4b76-94dc-17e53759b2b3",
   "metadata": {},
   "source": [
    "### Student Enrollments"
   ]
  },
  {
   "cell_type": "code",
   "execution_count": 53,
   "id": "a8becbc1-926d-4a5d-bca2-213624f2f27b",
   "metadata": {},
   "outputs": [
    {
     "data": {
      "text/plain": [
       "array([3., 2.])"
      ]
     },
     "execution_count": 53,
     "metadata": {},
     "output_type": "execute_result"
    }
   ],
   "source": [
    "# There are only 2 ratings!\n",
    "# - 2: the user just audited the course without completing\n",
    "# - 3: the user completed the course and earned a certificate\n",
    "# Two other possible values are not explicitly available in this project:\n",
    "# - 0 or NA: the user has no interaction with the course and \n",
    "# - 1: the user just browsed the course.\n",
    "ratings_df['rating'].unique()"
   ]
  },
  {
   "cell_type": "code",
   "execution_count": 54,
   "id": "21231843-a89f-4f6e-8afa-99ad29a16923",
   "metadata": {},
   "outputs": [
    {
     "data": {
      "text/html": [
       "<div>\n",
       "<style scoped>\n",
       "    .dataframe tbody tr th:only-of-type {\n",
       "        vertical-align: middle;\n",
       "    }\n",
       "\n",
       "    .dataframe tbody tr th {\n",
       "        vertical-align: top;\n",
       "    }\n",
       "\n",
       "    .dataframe thead th {\n",
       "        text-align: right;\n",
       "    }\n",
       "</style>\n",
       "<table border=\"1\" class=\"dataframe\">\n",
       "  <thead>\n",
       "    <tr style=\"text-align: right;\">\n",
       "      <th></th>\n",
       "      <th>rating</th>\n",
       "    </tr>\n",
       "    <tr>\n",
       "      <th>user</th>\n",
       "      <th></th>\n",
       "    </tr>\n",
       "  </thead>\n",
       "  <tbody>\n",
       "    <tr>\n",
       "      <th>2</th>\n",
       "      <td>2.704918</td>\n",
       "    </tr>\n",
       "    <tr>\n",
       "      <th>4</th>\n",
       "      <td>2.000000</td>\n",
       "    </tr>\n",
       "    <tr>\n",
       "      <th>5</th>\n",
       "      <td>2.000000</td>\n",
       "    </tr>\n",
       "    <tr>\n",
       "      <th>7</th>\n",
       "      <td>2.000000</td>\n",
       "    </tr>\n",
       "    <tr>\n",
       "      <th>8</th>\n",
       "      <td>2.000000</td>\n",
       "    </tr>\n",
       "    <tr>\n",
       "      <th>...</th>\n",
       "      <td>...</td>\n",
       "    </tr>\n",
       "    <tr>\n",
       "      <th>2102054</th>\n",
       "      <td>3.000000</td>\n",
       "    </tr>\n",
       "    <tr>\n",
       "      <th>2102356</th>\n",
       "      <td>2.000000</td>\n",
       "    </tr>\n",
       "    <tr>\n",
       "      <th>2102680</th>\n",
       "      <td>2.909091</td>\n",
       "    </tr>\n",
       "    <tr>\n",
       "      <th>2102983</th>\n",
       "      <td>2.000000</td>\n",
       "    </tr>\n",
       "    <tr>\n",
       "      <th>2103039</th>\n",
       "      <td>2.000000</td>\n",
       "    </tr>\n",
       "  </tbody>\n",
       "</table>\n",
       "<p>33901 rows × 1 columns</p>\n",
       "</div>"
      ],
      "text/plain": [
       "           rating\n",
       "user             \n",
       "2        2.704918\n",
       "4        2.000000\n",
       "5        2.000000\n",
       "7        2.000000\n",
       "8        2.000000\n",
       "...           ...\n",
       "2102054  3.000000\n",
       "2102356  2.000000\n",
       "2102680  2.909091\n",
       "2102983  2.000000\n",
       "2103039  2.000000\n",
       "\n",
       "[33901 rows x 1 columns]"
      ]
     },
     "execution_count": 54,
     "metadata": {},
     "output_type": "execute_result"
    }
   ],
   "source": [
    "# Mean rating of each user\n",
    "ratings_df.groupby('user').mean()"
   ]
  },
  {
   "cell_type": "code",
   "execution_count": 57,
   "id": "718b2924-4d11-40bd-9c92-082e805615bb",
   "metadata": {},
   "outputs": [
    {
     "data": {
      "text/plain": [
       "Text(0, 0.5, 'number of students')"
      ]
     },
     "execution_count": 57,
     "metadata": {},
     "output_type": "execute_result"
    },
    {
     "data": {
      "image/png": "[encoded data removed]",
      "text/plain": [
       "<Figure size 720x360 with 1 Axes>"
      ]
     },
     "metadata": {
      "needs_background": "light"
     },
     "output_type": "display_data"
    }
   ],
   "source": [
    "# Histogram of number of courses to which a student is exposed\n",
    "rating_counts = ratings_df.groupby('user').count()['rating']\n",
    "plt.figure(figsize=(10,5))\n",
    "rating_counts.hist(bins=50)\n",
    "plt.xlabel('enrollments per student')\n",
    "plt.ylabel('number of students')"
   ]
  },
  {
   "cell_type": "markdown",
   "id": "d337685c-50be-4803-a4ac-e59880852b0c",
   "metadata": {},
   "source": [
    "### Most Popular Courses"
   ]
  },
  {
   "cell_type": "code",
   "execution_count": 59,
   "id": "68165673-d225-4543-a865-692760ce9b2b",
   "metadata": {},
   "outputs": [
    {
     "data": {
      "text/html": [
       "<div>\n",
       "<style scoped>\n",
       "    .dataframe tbody tr th:only-of-type {\n",
       "        vertical-align: middle;\n",
       "    }\n",
       "\n",
       "    .dataframe tbody tr th {\n",
       "        vertical-align: top;\n",
       "    }\n",
       "\n",
       "    .dataframe thead th {\n",
       "        text-align: right;\n",
       "    }\n",
       "</style>\n",
       "<table border=\"1\" class=\"dataframe\">\n",
       "  <thead>\n",
       "    <tr style=\"text-align: right;\">\n",
       "      <th></th>\n",
       "      <th>course</th>\n",
       "      <th>enrollments</th>\n",
       "    </tr>\n",
       "  </thead>\n",
       "  <tbody>\n",
       "    <tr>\n",
       "      <th>0</th>\n",
       "      <td>PY0101EN</td>\n",
       "      <td>14936</td>\n",
       "    </tr>\n",
       "    <tr>\n",
       "      <th>1</th>\n",
       "      <td>DS0101EN</td>\n",
       "      <td>14477</td>\n",
       "    </tr>\n",
       "    <tr>\n",
       "      <th>2</th>\n",
       "      <td>BD0101EN</td>\n",
       "      <td>13291</td>\n",
       "    </tr>\n",
       "    <tr>\n",
       "      <th>3</th>\n",
       "      <td>BD0111EN</td>\n",
       "      <td>10599</td>\n",
       "    </tr>\n",
       "    <tr>\n",
       "      <th>4</th>\n",
       "      <td>DA0101EN</td>\n",
       "      <td>8303</td>\n",
       "    </tr>\n",
       "    <tr>\n",
       "      <th>5</th>\n",
       "      <td>DS0103EN</td>\n",
       "      <td>7719</td>\n",
       "    </tr>\n",
       "    <tr>\n",
       "      <th>6</th>\n",
       "      <td>ML0101ENv3</td>\n",
       "      <td>7644</td>\n",
       "    </tr>\n",
       "    <tr>\n",
       "      <th>7</th>\n",
       "      <td>BD0211EN</td>\n",
       "      <td>7551</td>\n",
       "    </tr>\n",
       "    <tr>\n",
       "      <th>8</th>\n",
       "      <td>DS0105EN</td>\n",
       "      <td>7199</td>\n",
       "    </tr>\n",
       "    <tr>\n",
       "      <th>9</th>\n",
       "      <td>BC0101EN</td>\n",
       "      <td>6719</td>\n",
       "    </tr>\n",
       "    <tr>\n",
       "      <th>10</th>\n",
       "      <td>DV0101EN</td>\n",
       "      <td>6709</td>\n",
       "    </tr>\n",
       "    <tr>\n",
       "      <th>11</th>\n",
       "      <td>ML0115EN</td>\n",
       "      <td>6323</td>\n",
       "    </tr>\n",
       "    <tr>\n",
       "      <th>12</th>\n",
       "      <td>CB0103EN</td>\n",
       "      <td>5512</td>\n",
       "    </tr>\n",
       "    <tr>\n",
       "      <th>13</th>\n",
       "      <td>RP0101EN</td>\n",
       "      <td>5237</td>\n",
       "    </tr>\n",
       "    <tr>\n",
       "      <th>14</th>\n",
       "      <td>ST0101EN</td>\n",
       "      <td>5015</td>\n",
       "    </tr>\n",
       "    <tr>\n",
       "      <th>15</th>\n",
       "      <td>CC0101EN</td>\n",
       "      <td>4983</td>\n",
       "    </tr>\n",
       "    <tr>\n",
       "      <th>16</th>\n",
       "      <td>CO0101EN</td>\n",
       "      <td>4480</td>\n",
       "    </tr>\n",
       "    <tr>\n",
       "      <th>17</th>\n",
       "      <td>DB0101EN</td>\n",
       "      <td>3697</td>\n",
       "    </tr>\n",
       "    <tr>\n",
       "      <th>18</th>\n",
       "      <td>BD0115EN</td>\n",
       "      <td>3670</td>\n",
       "    </tr>\n",
       "    <tr>\n",
       "      <th>19</th>\n",
       "      <td>DS0301EN</td>\n",
       "      <td>3624</td>\n",
       "    </tr>\n",
       "  </tbody>\n",
       "</table>\n",
       "</div>"
      ],
      "text/plain": [
       "        course  enrollments\n",
       "0     PY0101EN        14936\n",
       "1     DS0101EN        14477\n",
       "2     BD0101EN        13291\n",
       "3     BD0111EN        10599\n",
       "4     DA0101EN         8303\n",
       "5     DS0103EN         7719\n",
       "6   ML0101ENv3         7644\n",
       "7     BD0211EN         7551\n",
       "8     DS0105EN         7199\n",
       "9     BC0101EN         6719\n",
       "10    DV0101EN         6709\n",
       "11    ML0115EN         6323\n",
       "12    CB0103EN         5512\n",
       "13    RP0101EN         5237\n",
       "14    ST0101EN         5015\n",
       "15    CC0101EN         4983\n",
       "16    CO0101EN         4480\n",
       "17    DB0101EN         3697\n",
       "18    BD0115EN         3670\n",
       "19    DS0301EN         3624"
      ]
     },
     "execution_count": 59,
     "metadata": {},
     "output_type": "execute_result"
    }
   ],
   "source": [
    "# Top 20 courses, i.e., the ones with most enrollments\n",
    "popular_courses = pd.DataFrame(ratings_df.groupby('item').size().sort_values(ascending=False)[:20]).reset_index()\n",
    "popular_courses.columns = ['course', 'enrollments']\n",
    "popular_courses"
   ]
  },
  {
   "cell_type": "code",
   "execution_count": 60,
   "id": "601ebd72-f4bd-4765-9b68-bdcc54bc89d8",
   "metadata": {},
   "outputs": [
    {
     "data": {
      "text/html": [
       "<div>\n",
       "<style scoped>\n",
       "    .dataframe tbody tr th:only-of-type {\n",
       "        vertical-align: middle;\n",
       "    }\n",
       "\n",
       "    .dataframe tbody tr th {\n",
       "        vertical-align: top;\n",
       "    }\n",
       "\n",
       "    .dataframe thead th {\n",
       "        text-align: right;\n",
       "    }\n",
       "</style>\n",
       "<table border=\"1\" class=\"dataframe\">\n",
       "  <thead>\n",
       "    <tr style=\"text-align: right;\">\n",
       "      <th></th>\n",
       "      <th>course</th>\n",
       "      <th>enrollments</th>\n",
       "      <th>TITLE</th>\n",
       "    </tr>\n",
       "  </thead>\n",
       "  <tbody>\n",
       "    <tr>\n",
       "      <th>0</th>\n",
       "      <td>PY0101EN</td>\n",
       "      <td>14936</td>\n",
       "      <td>python for data science</td>\n",
       "    </tr>\n",
       "    <tr>\n",
       "      <th>1</th>\n",
       "      <td>DS0101EN</td>\n",
       "      <td>14477</td>\n",
       "      <td>introduction to data science</td>\n",
       "    </tr>\n",
       "    <tr>\n",
       "      <th>2</th>\n",
       "      <td>BD0101EN</td>\n",
       "      <td>13291</td>\n",
       "      <td>big data 101</td>\n",
       "    </tr>\n",
       "    <tr>\n",
       "      <th>3</th>\n",
       "      <td>BD0111EN</td>\n",
       "      <td>10599</td>\n",
       "      <td>hadoop 101</td>\n",
       "    </tr>\n",
       "    <tr>\n",
       "      <th>4</th>\n",
       "      <td>DA0101EN</td>\n",
       "      <td>8303</td>\n",
       "      <td>data analysis with python</td>\n",
       "    </tr>\n",
       "    <tr>\n",
       "      <th>5</th>\n",
       "      <td>DS0103EN</td>\n",
       "      <td>7719</td>\n",
       "      <td>data science methodology</td>\n",
       "    </tr>\n",
       "    <tr>\n",
       "      <th>6</th>\n",
       "      <td>ML0101ENv3</td>\n",
       "      <td>7644</td>\n",
       "      <td>machine learning with python</td>\n",
       "    </tr>\n",
       "    <tr>\n",
       "      <th>7</th>\n",
       "      <td>BD0211EN</td>\n",
       "      <td>7551</td>\n",
       "      <td>spark fundamentals i</td>\n",
       "    </tr>\n",
       "    <tr>\n",
       "      <th>8</th>\n",
       "      <td>DS0105EN</td>\n",
       "      <td>7199</td>\n",
       "      <td>data science hands on with open source tools</td>\n",
       "    </tr>\n",
       "    <tr>\n",
       "      <th>9</th>\n",
       "      <td>BC0101EN</td>\n",
       "      <td>6719</td>\n",
       "      <td>blockchain essentials</td>\n",
       "    </tr>\n",
       "    <tr>\n",
       "      <th>10</th>\n",
       "      <td>DV0101EN</td>\n",
       "      <td>6709</td>\n",
       "      <td>data visualization with python</td>\n",
       "    </tr>\n",
       "    <tr>\n",
       "      <th>11</th>\n",
       "      <td>ML0115EN</td>\n",
       "      <td>6323</td>\n",
       "      <td>deep learning 101</td>\n",
       "    </tr>\n",
       "    <tr>\n",
       "      <th>12</th>\n",
       "      <td>CB0103EN</td>\n",
       "      <td>5512</td>\n",
       "      <td>build your own chatbot</td>\n",
       "    </tr>\n",
       "    <tr>\n",
       "      <th>13</th>\n",
       "      <td>RP0101EN</td>\n",
       "      <td>5237</td>\n",
       "      <td>r for data science</td>\n",
       "    </tr>\n",
       "    <tr>\n",
       "      <th>14</th>\n",
       "      <td>ST0101EN</td>\n",
       "      <td>5015</td>\n",
       "      <td>statistics 101</td>\n",
       "    </tr>\n",
       "    <tr>\n",
       "      <th>15</th>\n",
       "      <td>CC0101EN</td>\n",
       "      <td>4983</td>\n",
       "      <td>introduction to cloud</td>\n",
       "    </tr>\n",
       "    <tr>\n",
       "      <th>16</th>\n",
       "      <td>CO0101EN</td>\n",
       "      <td>4480</td>\n",
       "      <td>docker essentials  a developer introduction</td>\n",
       "    </tr>\n",
       "    <tr>\n",
       "      <th>17</th>\n",
       "      <td>DB0101EN</td>\n",
       "      <td>3697</td>\n",
       "      <td>sql and relational databases 101</td>\n",
       "    </tr>\n",
       "    <tr>\n",
       "      <th>18</th>\n",
       "      <td>BD0115EN</td>\n",
       "      <td>3670</td>\n",
       "      <td>mapreduce and yarn</td>\n",
       "    </tr>\n",
       "    <tr>\n",
       "      <th>19</th>\n",
       "      <td>DS0301EN</td>\n",
       "      <td>3624</td>\n",
       "      <td>data privacy fundamentals</td>\n",
       "    </tr>\n",
       "  </tbody>\n",
       "</table>\n",
       "</div>"
      ],
      "text/plain": [
       "        course  enrollments                                         TITLE\n",
       "0     PY0101EN        14936                       python for data science\n",
       "1     DS0101EN        14477                  introduction to data science\n",
       "2     BD0101EN        13291                                  big data 101\n",
       "3     BD0111EN        10599                                    hadoop 101\n",
       "4     DA0101EN         8303                     data analysis with python\n",
       "5     DS0103EN         7719                      data science methodology\n",
       "6   ML0101ENv3         7644                  machine learning with python\n",
       "7     BD0211EN         7551                          spark fundamentals i\n",
       "8     DS0105EN         7199  data science hands on with open source tools\n",
       "9     BC0101EN         6719                         blockchain essentials\n",
       "10    DV0101EN         6709                data visualization with python\n",
       "11    ML0115EN         6323                             deep learning 101\n",
       "12    CB0103EN         5512                        build your own chatbot\n",
       "13    RP0101EN         5237                            r for data science\n",
       "14    ST0101EN         5015                                statistics 101\n",
       "15    CC0101EN         4983                         introduction to cloud\n",
       "16    CO0101EN         4480   docker essentials  a developer introduction\n",
       "17    DB0101EN         3697              sql and relational databases 101\n",
       "18    BD0115EN         3670                            mapreduce and yarn\n",
       "19    DS0301EN         3624                     data privacy fundamentals"
      ]
     },
     "execution_count": 60,
     "metadata": {},
     "output_type": "execute_result"
    }
   ],
   "source": [
    "# The names of the top 20 most enrolled courses\n",
    "# We need to do an inner join!\n",
    "popular_courses_ = pd.merge(left=popular_courses,\n",
    "         right=course_df,\n",
    "         how='inner',\n",
    "         left_on='course',\n",
    "         right_on='COURSE_ID')[['course', 'enrollments', 'TITLE']]\n",
    "popular_courses_"
   ]
  },
  {
   "cell_type": "code",
   "execution_count": 61,
   "id": "f87ab1ca-9f1b-4c48-9608-2316efe22863",
   "metadata": {},
   "outputs": [
    {
     "name": "stdout",
     "output_type": "stream",
     "text": [
      "Percentage of the top course enrollments: 63.3%.\n"
     ]
    }
   ],
   "source": [
    "top = popular_courses_['enrollments'].sum(axis=0)\n",
    "total = ratings_df.shape[0]\n",
    "print(f\"Percentage of the top course enrollments: {round((top * 100)/total, 2)}%.\")"
   ]
  },
  {
   "cell_type": "code",
   "execution_count": 63,
   "id": "3aeac7ff-5541-42c9-ac1e-01c51ef42e7c",
   "metadata": {},
   "outputs": [
    {
     "name": "stdout",
     "output_type": "stream",
     "text": [
      "Total number of courses in the ratings: 126.\n"
     ]
    }
   ],
   "source": [
    "print(f\"Total number of courses in the ratings: {len(ratings_df['item'].unique())}.\")"
   ]
  },
  {
   "cell_type": "code",
   "execution_count": null,
   "id": "3272f415-0653-41eb-93ae-774634a246d7",
   "metadata": {},
   "outputs": [],
   "source": []
  }
 ],
 "metadata": {
  "kernelspec": {
   "display_name": "Python 3 (ipykernel)",
   "language": "python",
   "name": "python3"
  },
  "language_info": {
   "codemirror_mode": {
    "name": "ipython",
    "version": 3
   },
   "file_extension": ".py",
   "mimetype": "text/x-python",
   "name": "python",
   "nbconvert_exporter": "python",
   "pygments_lexer": "ipython3",
   "version": "3.11.4"
  }
 },
 "nbformat": 4,
 "nbformat_minor": 5
}
